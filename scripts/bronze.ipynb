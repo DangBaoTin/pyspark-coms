{
 "cells": [
  {
   "cell_type": "code",
   "execution_count": null,
   "id": "06753bd7",
   "metadata": {},
   "outputs": [],
   "source": [
    "from pyspark.sql import SparkSession\n",
    "\n",
    "spark = SparkSession.builder \\\n",
    "    .appName(\"COMS_Project_Docker\") \\\n",
    "    .master(\"spark://coms-spark-master:7077\") \\\n",
    "    .config(\"spark.hadoop.fs.s3a.endpoint\", \"http://coms-minio:9000\") \\\n",
    "    .config(\"spark.hadoop.fs.s3a.access.key\", \"minio_user\") \\\n",
    "    .config(\"spark.hadoop.fs.s3a.secret.key\", \"minio_password\") \\\n",
    "    .config(\"spark.hadoop.fs.s3a.path.style.access\", \"true\") \\\n",
    "    .config(\"spark.hadoop.fs.s3a.impl\", \"org.apache.hadoop.fs.s3a.S3AFileSystem\") \\\n",
    "    .config(\"spark.jars.packages\", \"org.apache.hadoop:hadoop-aws:3.3.6,com.amazonaws:aws-java-sdk-bundle:1.12.367\") \\\n",
    "    .getOrCreate()\n",
    "\n",
    "# You can now test the connection by listing objects or reading a file\n",
    "# For example, if you have uploaded 'customers.csv' to the 'raw' bucket:\n",
    "# customers_df = spark.read.csv(\"s3a://raw/customers.csv\", header=True, inferSchema=True)\n",
    "# customers_df.show()\n",
    "\n",
    "print(\"SparkSession created and connected to MinIO!\")"
   ]
  }
 ],
 "metadata": {
  "kernelspec": {
   "display_name": "venv",
   "language": "python",
   "name": "python3"
  },
  "language_info": {
   "name": "python",
   "version": "3.9.8"
  }
 },
 "nbformat": 4,
 "nbformat_minor": 5
}
